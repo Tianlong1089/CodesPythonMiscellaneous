{
  "nbformat": 4,
  "nbformat_minor": 0,
  "metadata": {
    "colab": {
      "provenance": [],
      "authorship_tag": "ABX9TyPDl61DkFXwB51alqdRH8bW",
      "include_colab_link": true
    },
    "kernelspec": {
      "name": "python3",
      "display_name": "Python 3"
    },
    "language_info": {
      "name": "python"
    }
  },
  "cells": [
    {
      "cell_type": "markdown",
      "metadata": {
        "id": "view-in-github",
        "colab_type": "text"
      },
      "source": [
        "<a href=\"https://colab.research.google.com/github/Tianlong1089/CodesPythonMiscellaneous/blob/main/RandomNumbersInterval.ipynb\" target=\"_parent\"><img src=\"https://colab.research.google.com/assets/colab-badge.svg\" alt=\"Open In Colab\"/></a>"
      ]
    },
    {
      "cell_type": "code",
      "execution_count": 34,
      "metadata": {
        "id": "NlGC6U2l9WeY"
      },
      "outputs": [],
      "source": [
        "def interval():\n",
        "  import random\n",
        "  try:\n",
        "    lower = float(input('Enter the lower bound: '))\n",
        "    upper = float(input('Enter the upper bound: '))\n",
        "  except ValueError:\n",
        "    print(\"Please, Enter a full digit number \")\n",
        "  return random.uniform(lower,upper)\n",
        "if __name__ == \"__main__ \":\n",
        "  interval()\n"
      ]
    }
  ]
}