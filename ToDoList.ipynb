{
  "cells": [
    {
      "cell_type": "markdown",
      "metadata": {
        "id": "view-in-github",
        "colab_type": "text"
      },
      "source": [
        "<a href=\"https://colab.research.google.com/github/Tianlong1089/CodesPythonMiscellaneous/blob/main/ToDoList.ipynb\" target=\"_parent\"><img src=\"https://colab.research.google.com/assets/colab-badge.svg\" alt=\"Open In Colab\"/></a>"
      ]
    },
    {
      "cell_type": "code",
      "execution_count": null,
      "metadata": {
        "id": "WdfG591o9m3v"
      },
      "outputs": [],
      "source": [
        "#Create a file for the TODOS list\n",
        "fileTD=open('todos.txt','w')"
      ]
    },
    {
      "cell_type": "code",
      "execution_count": null,
      "metadata": {
        "colab": {
          "base_uri": "https://localhost:8080/"
        },
        "id": "K3JWqZikPk6U",
        "outputId": "fcc016fc-e682-4a7e-9b3b-843b008e2c55"
      },
      "outputs": [
        {
          "output_type": "stream",
          "name": "stdout",
          "text": [
            " Type add, show, edit, complete or exit: \n",
            "complete\n",
            "['\\n', 'buy a car\\n', 'clean the room\\n', 'wait for dad\\n', 'eat\\n', 'add a new member\\n']\n",
            "Number complete: \n",
            "23\n",
            "There is no item with number 23.  Try again. \n",
            " Type add, show, edit, complete or exit: \n",
            "exit\n",
            "Bye\n"
          ]
        }
      ],
      "source": [
        "## LIST TODOS WITH ALL MODIFICATIONS\n",
        "todos = []\n",
        "while True:\n",
        "  user_action = input(' Type add, show, edit, complete or exit: \\n')\n",
        "  user_action = user_action.strip()\n",
        "  if user_action.startswith('add'):  #add case\n",
        "    todo = user_action[4:]\n",
        "\n",
        "    with  open('todos.txt','r') as file:\n",
        "      todos = file.readlines()\n",
        "      file.close()\n",
        "    todos.append(todo + '\\n')\n",
        "    \n",
        "    with  open('todos.txt','w') as file:\n",
        "      file.writelines(todos)\n",
        "      file.close()\n",
        "\n",
        "  elif  user_action.startswith('show'):  #show case\n",
        "    with open('todos.txt','r') as file:\n",
        "      todos = file.readlines()\n",
        "    todos = [palabra.strip('\\n') for palabra in todos ]\n",
        "    for index, item in enumerate(todos):\n",
        "      row = f'{index+1}:{item}'\n",
        "      print(row)\n",
        "\n",
        "  elif  user_action.startswith('edit'): #edit case\n",
        "    with open(\"todos.txt\",'r') as f:\n",
        "      todos = f.readlines()\n",
        "      f.close()\n",
        "    print(f'These are the activities saved : {todos} \\n')\n",
        "\n",
        "    number = int(input('Enter the number of todo to edit: '))\n",
        "    number = number -1 \n",
        "\n",
        "    print('Got it!  ', number +1)\n",
        "\n",
        "    new_todo =input('Enter new todo \\n')\n",
        "    todos[number] = new_todo +'\\n'\n",
        "    with open('todos.txt','w') as f:\n",
        "      f.writelines(todos)\n",
        "      f.close()\n",
        "\n",
        "  elif user_action.startswith('complete') :#\n",
        "      try:\n",
        "        with open('todos.txt', 'r') as f:\n",
        "          todos=f.readlines()\n",
        "          f.close()\n",
        "        print(todos)\n",
        "        \n",
        "\n",
        "        number = int(input(\"Number complete: \\n\"))\n",
        "        print(f'This todo was removed {todos[number-1]} okay!')\n",
        "        todos.pop(number - 1 )\n",
        "\n",
        "        with open('todos.txt','w') as f:\n",
        "          f.writelines(todos)\n",
        "          f.close()\n",
        "      except IndexError:\n",
        "        print(f\"There is no item with number {number}.  Try again. \")\n",
        "        continue\n",
        "\n",
        "  elif user_action == 'exit':\n",
        "      break\n",
        "\n",
        "  else: \n",
        "    print('Command is not valid. Please type [edit / show /complete /exit] ')\n",
        "print('Bye')\n",
        "\n",
        "  \n"
      ]
    },
    {
      "cell_type": "code",
      "execution_count": null,
      "metadata": {
        "colab": {
          "base_uri": "https://localhost:8080/"
        },
        "id": "zm6iIBoPHCgj",
        "outputId": "8d236c92-66ef-4c4f-d430-3bcf4c2330de"
      },
      "outputs": [
        {
          "name": "stdout",
          "output_type": "stream",
          "text": [
            "['clean\\n', 'move\\n']\n"
          ]
        }
      ],
      "source": [
        "\n",
        "with open('todos.txt','r') as file:\n",
        "  print(file.readlines())\n"
      ]
    },
    {
      "cell_type": "code",
      "execution_count": null,
      "metadata": {
        "id": "F8CZd1QuPuQX"
      },
      "outputs": [],
      "source": [
        "# ALL STUFF MORE"
      ]
    },
    {
      "cell_type": "code",
      "execution_count": null,
      "metadata": {
        "colab": {
          "base_uri": "https://localhost:8080/"
        },
        "id": "RV1NMmHC0V-5",
        "outputId": "da7da38c-0363-4227-dbf8-9f7bb0bc2a1a"
      },
      "outputs": [
        {
          "name": "stdout",
          "output_type": "stream",
          "text": [
            "Enter your name: \n",
            "carlos\n",
            "carlos\n"
          ]
        }
      ],
      "source": [
        "message= \"Enter your name: \\n\"\n",
        "user_txt=input(message)\n",
        "print(user_txt)"
      ]
    },
    {
      "cell_type": "code",
      "execution_count": null,
      "metadata": {
        "colab": {
          "base_uri": "https://localhost:8080/"
        },
        "id": "63vGEA0z1zWt",
        "outputId": "5db575ec-6907-46fb-dc36-4a611ec78655"
      },
      "outputs": [
        {
          "name": "stdout",
          "output_type": "stream",
          "text": [
            " Enter a todo:a\n",
            " Enter a todo:b\n",
            " Enter a todo:c\n",
            "['a', 'b', 'c', 'hello']\n",
            "<class 'str'>\n"
          ]
        }
      ],
      "source": [
        " message=' Enter a todo:'\n",
        "todo1= input(message)\n",
        "todo2= input(message)\n",
        "todo3= input(message)\n",
        "todo = [todo1, todo2, todo3,\"hello\"]\n",
        "print(todo)\n",
        "print(type(todo1))"
      ]
    },
    {
      "cell_type": "code",
      "execution_count": null,
      "metadata": {
        "colab": {
          "base_uri": "https://localhost:8080/"
        },
        "id": "FTITA4_l2Zs3",
        "outputId": "00aed5ef-de2c-4508-c204-f4baa6149605"
      },
      "outputs": [
        {
          "name": "stdout",
          "output_type": "stream",
          "text": [
            " Enter your title:\n",
            "Hola Mundo\n",
            "the lenght of your title is:  10\n"
          ]
        }
      ],
      "source": [
        "title = input(\" Enter your title:\\n\")\n",
        "print('the lenght of your title is: ', len(title))"
      ]
    },
    {
      "cell_type": "code",
      "execution_count": null,
      "metadata": {
        "id": "OULHFu1Ny3mK"
      },
      "outputs": [],
      "source": [
        "#This is a simple Python script\n",
        "\n",
        "def print_hi(name):\n",
        "  #use a name to \n",
        "  return print(r\" Hola amigo  \", name)"
      ]
    },
    {
      "cell_type": "code",
      "execution_count": null,
      "metadata": {
        "colab": {
          "base_uri": "https://localhost:8080/"
        },
        "id": "mIbL78ZEz4q5",
        "outputId": "0bb5a0ca-9dca-4ef4-8cc0-3c2a1b79905e"
      },
      "outputs": [
        {
          "name": "stdout",
          "output_type": "stream",
          "text": [
            " Hola amigo   Carlos\n"
          ]
        }
      ],
      "source": [
        "print_hi('Carlos')"
      ]
    },
    {
      "cell_type": "code",
      "execution_count": null,
      "metadata": {
        "id": "0wGvh43hz9kM"
      },
      "outputs": [],
      "source": [
        "## Second Day"
      ]
    },
    {
      "cell_type": "code",
      "execution_count": null,
      "metadata": {
        "id": "qDD4Q1f62-_o"
      },
      "outputs": [],
      "source": [
        "message = 'Enter a todo:'\n",
        "todos = []\n",
        "while  True:\n",
        "  todo1 =input(message)\n",
        "  todos.append(todo1)\n",
        "  print(todos)\n"
      ]
    },
    {
      "cell_type": "code",
      "execution_count": null,
      "metadata": {
        "colab": {
          "base_uri": "https://localhost:8080/"
        },
        "id": "5Nxia4wf2_xQ",
        "outputId": "b7421034-93d1-4815-9ca1-706b2fdd7e06"
      },
      "outputs": [
        {
          "name": "stdout",
          "output_type": "stream",
          "text": [
            "Enter password\n",
            "pas123\n",
            "Enter password:\n",
            "pass123\n",
            "Password Correct !!!\n"
          ]
        }
      ],
      "source": [
        "# Bonus PAssword \n",
        "password= input(\"Enter password\\n\")\n",
        "while password != 'pass123':\n",
        "  password= input(\"Enter password:\\n\")\n",
        "print(\"Password Correct !!!\")"
      ]
    },
    {
      "cell_type": "code",
      "execution_count": null,
      "metadata": {
        "colab": {
          "base_uri": "https://localhost:8080/"
        },
        "id": "oCWAvgab3AeG",
        "outputId": "b59fa6dd-b8c4-4375-87c5-d2e7d0c25c84"
      },
      "outputs": [
        {
          "name": "stdout",
          "output_type": "stream",
          "text": [
            "0\n",
            "iteracion numero:1\n",
            "1\n",
            "iteracion numero:2\n",
            "2\n",
            "iteracion numero:3\n",
            "3\n",
            "iteracion numero:4\n",
            "4\n",
            "iteracion numero:5\n"
          ]
        }
      ],
      "source": [
        "#Printing Numbers and f-strings\n",
        "final_num=5\n",
        "i=0\n",
        "while i < final_num:\n",
        "  print(i)\n",
        "  i += 1\n",
        "  print(f'iteracion numero:{i}' )\n",
        "\n",
        "  "
      ]
    },
    {
      "cell_type": "code",
      "execution_count": null,
      "metadata": {
        "colab": {
          "base_uri": "https://localhost:8080/",
          "height": 35
        },
        "id": "-EUI2IGa7xID",
        "outputId": "8ed46ee3-f6ab-4435-82a8-7cc6a56fa95d"
      },
      "outputs": [
        {
          "data": {
            "application/vnd.google.colaboratory.intrinsic+json": {
              "type": "string"
            },
            "text/plain": [
              "'hello'"
            ]
          },
          "execution_count": 8,
          "metadata": {},
          "output_type": "execute_result"
        }
      ],
      "source": [
        "\"Hello\".lower()"
      ]
    },
    {
      "cell_type": "code",
      "execution_count": null,
      "metadata": {
        "id": "PKdCnAp48hXG"
      },
      "outputs": [],
      "source": [
        "def name_capitalized():\n",
        "  name=input('Write your name:\\n')\n",
        "  return name.title()"
      ]
    },
    {
      "cell_type": "code",
      "execution_count": null,
      "metadata": {
        "colab": {
          "base_uri": "https://localhost:8080/",
          "height": 70
        },
        "id": "f_eNoqni9Ul1",
        "outputId": "ed6263ef-5b37-430e-9144-d59b04a376c2"
      },
      "outputs": [
        {
          "name": "stdout",
          "output_type": "stream",
          "text": [
            "Write your name:\n",
            "carlos\n"
          ]
        },
        {
          "data": {
            "application/vnd.google.colaboratory.intrinsic+json": {
              "type": "string"
            },
            "text/plain": [
              "'Carlos'"
            ]
          },
          "execution_count": 15,
          "metadata": {},
          "output_type": "execute_result"
        }
      ],
      "source": [
        "name_capitalized()"
      ]
    },
    {
      "cell_type": "code",
      "execution_count": null,
      "metadata": {
        "colab": {
          "base_uri": "https://localhost:8080/",
          "height": 450
        },
        "id": "zjOn8Ut99XJw",
        "outputId": "44cb36e7-9b8e-48cb-c6e9-217c916f45db"
      },
      "outputs": [
        {
          "name": "stdout",
          "output_type": "stream",
          "text": [
            "Enter your country: Mexico\n",
            "['Mexico']\n",
            "Enter your country: USA\n",
            "['Mexico', 'USA']\n"
          ]
        },
        {
          "ename": "KeyboardInterrupt",
          "evalue": "ignored",
          "output_type": "error",
          "traceback": [
            "\u001b[0;31m---------------------------------------------------------------------------\u001b[0m",
            "\u001b[0;31mKeyboardInterrupt\u001b[0m                         Traceback (most recent call last)",
            "\u001b[0;32m<ipython-input-16-8e35672af2f6>\u001b[0m in \u001b[0;36m<cell line: 6>\u001b[0;34m()\u001b[0m\n\u001b[1;32m      4\u001b[0m \u001b[0;34m\u001b[0m\u001b[0m\n\u001b[1;32m      5\u001b[0m \u001b[0;32mwhile\u001b[0m \u001b[0;32mTrue\u001b[0m \u001b[0;34m:\u001b[0m\u001b[0;34m\u001b[0m\u001b[0;34m\u001b[0m\u001b[0m\n\u001b[0;32m----> 6\u001b[0;31m   \u001b[0mcountry\u001b[0m \u001b[0;34m=\u001b[0m \u001b[0minput\u001b[0m\u001b[0;34m(\u001b[0m\u001b[0;34m\"Enter your country: \"\u001b[0m\u001b[0;34m)\u001b[0m\u001b[0;34m\u001b[0m\u001b[0;34m\u001b[0m\u001b[0m\n\u001b[0m\u001b[1;32m      7\u001b[0m   \u001b[0mcountries\u001b[0m\u001b[0;34m.\u001b[0m\u001b[0mappend\u001b[0m\u001b[0;34m(\u001b[0m\u001b[0mcountry\u001b[0m\u001b[0;34m)\u001b[0m\u001b[0;34m\u001b[0m\u001b[0;34m\u001b[0m\u001b[0m\n\u001b[1;32m      8\u001b[0m   \u001b[0mprint\u001b[0m\u001b[0;34m(\u001b[0m\u001b[0mcountries\u001b[0m\u001b[0;34m)\u001b[0m\u001b[0;34m\u001b[0m\u001b[0;34m\u001b[0m\u001b[0m\n",
            "\u001b[0;32m/usr/local/lib/python3.9/dist-packages/ipykernel/kernelbase.py\u001b[0m in \u001b[0;36mraw_input\u001b[0;34m(self, prompt)\u001b[0m\n\u001b[1;32m    849\u001b[0m                 \u001b[0;34m\"raw_input was called, but this frontend does not support input requests.\"\u001b[0m\u001b[0;34m\u001b[0m\u001b[0;34m\u001b[0m\u001b[0m\n\u001b[1;32m    850\u001b[0m             )\n\u001b[0;32m--> 851\u001b[0;31m         return self._input_request(str(prompt),\n\u001b[0m\u001b[1;32m    852\u001b[0m             \u001b[0mself\u001b[0m\u001b[0;34m.\u001b[0m\u001b[0m_parent_ident\u001b[0m\u001b[0;34m,\u001b[0m\u001b[0;34m\u001b[0m\u001b[0;34m\u001b[0m\u001b[0m\n\u001b[1;32m    853\u001b[0m             \u001b[0mself\u001b[0m\u001b[0;34m.\u001b[0m\u001b[0m_parent_header\u001b[0m\u001b[0;34m,\u001b[0m\u001b[0;34m\u001b[0m\u001b[0;34m\u001b[0m\u001b[0m\n",
            "\u001b[0;32m/usr/local/lib/python3.9/dist-packages/ipykernel/kernelbase.py\u001b[0m in \u001b[0;36m_input_request\u001b[0;34m(self, prompt, ident, parent, password)\u001b[0m\n\u001b[1;32m    893\u001b[0m             \u001b[0;32mexcept\u001b[0m \u001b[0mKeyboardInterrupt\u001b[0m\u001b[0;34m:\u001b[0m\u001b[0;34m\u001b[0m\u001b[0;34m\u001b[0m\u001b[0m\n\u001b[1;32m    894\u001b[0m                 \u001b[0;31m# re-raise KeyboardInterrupt, to truncate traceback\u001b[0m\u001b[0;34m\u001b[0m\u001b[0;34m\u001b[0m\u001b[0m\n\u001b[0;32m--> 895\u001b[0;31m                 \u001b[0;32mraise\u001b[0m \u001b[0mKeyboardInterrupt\u001b[0m\u001b[0;34m(\u001b[0m\u001b[0;34m\"Interrupted by user\"\u001b[0m\u001b[0;34m)\u001b[0m \u001b[0;32mfrom\u001b[0m \u001b[0;32mNone\u001b[0m\u001b[0;34m\u001b[0m\u001b[0;34m\u001b[0m\u001b[0m\n\u001b[0m\u001b[1;32m    896\u001b[0m             \u001b[0;32mexcept\u001b[0m \u001b[0mException\u001b[0m \u001b[0;32mas\u001b[0m \u001b[0me\u001b[0m\u001b[0;34m:\u001b[0m\u001b[0;34m\u001b[0m\u001b[0;34m\u001b[0m\u001b[0m\n\u001b[1;32m    897\u001b[0m                 \u001b[0mself\u001b[0m\u001b[0;34m.\u001b[0m\u001b[0mlog\u001b[0m\u001b[0;34m.\u001b[0m\u001b[0mwarning\u001b[0m\u001b[0;34m(\u001b[0m\u001b[0;34m\"Invalid Message:\"\u001b[0m\u001b[0;34m,\u001b[0m \u001b[0mexc_info\u001b[0m\u001b[0;34m=\u001b[0m\u001b[0;32mTrue\u001b[0m\u001b[0;34m)\u001b[0m\u001b[0;34m\u001b[0m\u001b[0;34m\u001b[0m\u001b[0m\n",
            "\u001b[0;31mKeyboardInterrupt\u001b[0m: Interrupted by user"
          ]
        }
      ],
      "source": [
        "#Fixing Bug\n",
        "countries = []\n",
        "\n",
        "while True :\n",
        "  country = input(\"Enter your country: \")\n",
        "  countries.append(country)\n",
        "  print(countries)"
      ]
    },
    {
      "cell_type": "code",
      "execution_count": null,
      "metadata": {
        "id": "s357xvMB-0Yf"
      },
      "outputs": [],
      "source": [
        "#dir(str)"
      ]
    },
    {
      "cell_type": "code",
      "execution_count": null,
      "metadata": {
        "id": "UrwGFGH-_DiV"
      },
      "outputs": [],
      "source": [
        "#dir(float)"
      ]
    },
    {
      "cell_type": "code",
      "execution_count": null,
      "metadata": {
        "colab": {
          "base_uri": "https://localhost:8080/",
          "height": 35
        },
        "id": "c320EZh-_Pdf",
        "outputId": "49a73542-aed7-47d9-df88-b57845146846"
      },
      "outputs": [
        {
          "data": {
            "application/vnd.google.colaboratory.intrinsic+json": {
              "type": "string"
            },
            "text/plain": [
              "'0x1.f600000000000p+6'"
            ]
          },
          "execution_count": 20,
          "metadata": {},
          "output_type": "execute_result"
        }
      ],
      "source": [
        "125.5.hex()"
      ]
    },
    {
      "cell_type": "code",
      "execution_count": null,
      "metadata": {
        "colab": {
          "base_uri": "https://localhost:8080/"
        },
        "id": "fkfIPbg9_Wwx",
        "outputId": "8d86c66d-bd5a-46bc-aca6-4c92b4e4c657"
      },
      "outputs": [
        {
          "name": "stdout",
          "output_type": "stream",
          "text": [
            "Help on method_descriptor:\n",
            "\n",
            "hex(self, /)\n",
            "    Return a hexadecimal representation of a floating-point number.\n",
            "    \n",
            "    >>> (-0.1).hex()\n",
            "    '-0x1.999999999999ap-4'\n",
            "    >>> 3.14159.hex()\n",
            "    '0x1.921f9f01b866ep+1'\n",
            "\n"
          ]
        }
      ],
      "source": [
        "help(float.hex)"
      ]
    },
    {
      "cell_type": "code",
      "execution_count": null,
      "metadata": {
        "id": "ns5HToFV_7YZ"
      },
      "outputs": [],
      "source": [
        "import builtins"
      ]
    },
    {
      "cell_type": "code",
      "execution_count": null,
      "metadata": {
        "colab": {
          "base_uri": "https://localhost:8080/"
        },
        "id": "Li_56DA5AJFE",
        "outputId": "2d5d4847-f433-454b-bd74-66ad4d2ccf86"
      },
      "outputs": [
        {
          "data": {
            "text/plain": [
              "['ArithmeticError',\n",
              " 'AssertionError',\n",
              " 'AttributeError',\n",
              " 'BaseException',\n",
              " 'BlockingIOError',\n",
              " 'BrokenPipeError',\n",
              " 'BufferError',\n",
              " 'BytesWarning',\n",
              " 'ChildProcessError',\n",
              " 'ConnectionAbortedError',\n",
              " 'ConnectionError',\n",
              " 'ConnectionRefusedError',\n",
              " 'ConnectionResetError',\n",
              " 'DeprecationWarning',\n",
              " 'EOFError',\n",
              " 'Ellipsis',\n",
              " 'EnvironmentError',\n",
              " 'Exception',\n",
              " 'False',\n",
              " 'FileExistsError',\n",
              " 'FileNotFoundError',\n",
              " 'FloatingPointError',\n",
              " 'FutureWarning',\n",
              " 'GeneratorExit',\n",
              " 'IOError',\n",
              " 'ImportError',\n",
              " 'ImportWarning',\n",
              " 'IndentationError',\n",
              " 'IndexError',\n",
              " 'InterruptedError',\n",
              " 'IsADirectoryError',\n",
              " 'KeyError',\n",
              " 'KeyboardInterrupt',\n",
              " 'LookupError',\n",
              " 'MemoryError',\n",
              " 'ModuleNotFoundError',\n",
              " 'NameError',\n",
              " 'None',\n",
              " 'NotADirectoryError',\n",
              " 'NotImplemented',\n",
              " 'NotImplementedError',\n",
              " 'OSError',\n",
              " 'OverflowError',\n",
              " 'PendingDeprecationWarning',\n",
              " 'PermissionError',\n",
              " 'ProcessLookupError',\n",
              " 'RecursionError',\n",
              " 'ReferenceError',\n",
              " 'ResourceWarning',\n",
              " 'RuntimeError',\n",
              " 'RuntimeWarning',\n",
              " 'StopAsyncIteration',\n",
              " 'StopIteration',\n",
              " 'SyntaxError',\n",
              " 'SyntaxWarning',\n",
              " 'SystemError',\n",
              " 'SystemExit',\n",
              " 'TabError',\n",
              " 'TimeoutError',\n",
              " 'True',\n",
              " 'TypeError',\n",
              " 'UnboundLocalError',\n",
              " 'UnicodeDecodeError',\n",
              " 'UnicodeEncodeError',\n",
              " 'UnicodeError',\n",
              " 'UnicodeTranslateError',\n",
              " 'UnicodeWarning',\n",
              " 'UserWarning',\n",
              " 'ValueError',\n",
              " 'Warning',\n",
              " 'ZeroDivisionError',\n",
              " '__IPYTHON__',\n",
              " '__build_class__',\n",
              " '__debug__',\n",
              " '__doc__',\n",
              " '__import__',\n",
              " '__loader__',\n",
              " '__name__',\n",
              " '__package__',\n",
              " '__spec__',\n",
              " 'abs',\n",
              " 'all',\n",
              " 'any',\n",
              " 'ascii',\n",
              " 'bin',\n",
              " 'bool',\n",
              " 'breakpoint',\n",
              " 'bytearray',\n",
              " 'bytes',\n",
              " 'callable',\n",
              " 'chr',\n",
              " 'classmethod',\n",
              " 'compile',\n",
              " 'complex',\n",
              " 'copyright',\n",
              " 'credits',\n",
              " 'delattr',\n",
              " 'dict',\n",
              " 'dir',\n",
              " 'display',\n",
              " 'divmod',\n",
              " 'enumerate',\n",
              " 'eval',\n",
              " 'exec',\n",
              " 'execfile',\n",
              " 'filter',\n",
              " 'float',\n",
              " 'format',\n",
              " 'frozenset',\n",
              " 'get_ipython',\n",
              " 'getattr',\n",
              " 'globals',\n",
              " 'hasattr',\n",
              " 'hash',\n",
              " 'help',\n",
              " 'hex',\n",
              " 'id',\n",
              " 'input',\n",
              " 'int',\n",
              " 'isinstance',\n",
              " 'issubclass',\n",
              " 'iter',\n",
              " 'len',\n",
              " 'license',\n",
              " 'list',\n",
              " 'locals',\n",
              " 'map',\n",
              " 'max',\n",
              " 'memoryview',\n",
              " 'min',\n",
              " 'next',\n",
              " 'object',\n",
              " 'oct',\n",
              " 'open',\n",
              " 'ord',\n",
              " 'pow',\n",
              " 'print',\n",
              " 'property',\n",
              " 'range',\n",
              " 'repr',\n",
              " 'reversed',\n",
              " 'round',\n",
              " 'runfile',\n",
              " 'set',\n",
              " 'setattr',\n",
              " 'slice',\n",
              " 'sorted',\n",
              " 'staticmethod',\n",
              " 'str',\n",
              " 'sum',\n",
              " 'super',\n",
              " 'tuple',\n",
              " 'type',\n",
              " 'vars',\n",
              " 'zip']"
            ]
          },
          "execution_count": 8,
          "metadata": {},
          "output_type": "execute_result"
        }
      ],
      "source": [
        "dir(builtins)"
      ]
    },
    {
      "cell_type": "code",
      "execution_count": null,
      "metadata": {
        "colab": {
          "base_uri": "https://localhost:8080/"
        },
        "id": "vLDQcUKqAQTI",
        "outputId": "ff19dbe8-d915-4c5f-e7e8-bb244e26c412"
      },
      "outputs": [
        {
          "name": "stdout",
          "output_type": "stream",
          "text": [
            "Type Add or show or exit:\n",
            "clean house\n",
            "Type Add or show or exit:\n",
            "add\n",
            "Enter a todo: clean house\n",
            "Type Add or show or exit:\n",
            "add\n",
            "Enter a todo: homework\n",
            "Type Add or show or exit:\n",
            "show\n",
            "clean house\n",
            "homework\n",
            "Type Add or show or exit:\n",
            "exit\n",
            "Bye!\n"
          ]
        }
      ],
      "source": [
        "### Match case Statement\n",
        "message= 'Type Add or show or exit:\\n'\n",
        "todos=[]\n",
        "i=0\n",
        "while True:\n",
        "  command = input(message)\n",
        "  command = command.strip()\n",
        "  i=i+1\n",
        "\n",
        "  if  command == 'add':\n",
        "        todo = input(\"Enter a todo: \")\n",
        "        todos.append(todo)\n",
        "  elif command == 'show':\n",
        "        for item in todos:\n",
        "          print(item.title())\n",
        "  elif command == 'exit' :\n",
        "        break \n",
        "  else: \n",
        "    print(\"Hey! , you enered an unknown match.\")\n",
        "print('Bye!')"
      ]
    },
    {
      "cell_type": "code",
      "execution_count": null,
      "metadata": {
        "colab": {
          "base_uri": "https://localhost:8080/",
          "height": 35
        },
        "id": "P_sGBLww_BTz",
        "outputId": "b9861766-dc15-474f-851c-530d90195569"
      },
      "outputs": [
        {
          "data": {
            "application/vnd.google.colaboratory.intrinsic+json": {
              "type": "string"
            },
            "text/plain": [
              "'add'"
            ]
          },
          "execution_count": 19,
          "metadata": {},
          "output_type": "execute_result"
        }
      ],
      "source": [
        "\"add \".strip()"
      ]
    },
    {
      "cell_type": "code",
      "execution_count": null,
      "metadata": {
        "colab": {
          "base_uri": "https://localhost:8080/"
        },
        "id": "1YWffB8PDAZ4",
        "outputId": "9a678ecc-c56a-4bf3-d9ee-e73517f290e9"
      },
      "outputs": [
        {
          "name": "stdout",
          "output_type": "stream",
          "text": [
            "m\n",
            "e\n",
            "a\n",
            "l\n",
            "s\n"
          ]
        }
      ],
      "source": [
        "for letter in  'meals':\n",
        "  print(letter)"
      ]
    },
    {
      "cell_type": "code",
      "execution_count": null,
      "metadata": {
        "colab": {
          "base_uri": "https://localhost:8080/"
        },
        "id": "VHuNQCOYDBN3",
        "outputId": "953cf738-aa0f-43c1-fe56-3814908fe021"
      },
      "outputs": [
        {
          "name": "stdout",
          "output_type": "stream",
          "text": [
            "Where are you from? USA/ India/ Germany \n",
            "USA\n",
            "hello!!!\n",
            "Where are you from? USA/ India/ Germany \n",
            "Germany\n",
            "hallo\n",
            "Where are you from? USA/ India/ Germany \n",
            "India\n",
            "Namaste\n",
            "Where are you from? USA/ India/ Germany \n",
            "Mexico\n"
          ]
        }
      ],
      "source": [
        "# Excercice 1 \n",
        "while True: \n",
        "  country = input(\"Where are you from? USA/ India/ Germany \\n\")\n",
        "  if country == 'USA':\n",
        "    print(\"hello!!!\")\n",
        "  elif country == 'India':\n",
        "    print('Namaste')\n",
        "  elif country == 'Germany':\n",
        "    print(\"hallo\")\n",
        "  else:\n",
        "    break\n"
      ]
    },
    {
      "cell_type": "code",
      "execution_count": null,
      "metadata": {
        "colab": {
          "base_uri": "https://localhost:8080/"
        },
        "id": "vmUlpokIDBYx",
        "outputId": "bf7fc8e3-50ac-43b5-dd10-f9f8fe931712"
      },
      "outputs": [
        {
          "name": "stdout",
          "output_type": "stream",
          "text": [
            "John Smith\n",
            "Sen Plakay\n",
            "Dora Ngacely\n"
          ]
        }
      ],
      "source": [
        "# Exercise 2\n",
        "ingredients = [\"john smith\", \"sen plakay\", \"dora ngacely\"]\n",
        "for name in ingredients:\n",
        "  print(name.title())"
      ]
    },
    {
      "cell_type": "code",
      "execution_count": null,
      "metadata": {
        "colab": {
          "base_uri": "https://localhost:8080/"
        },
        "id": "y7IWspjI-Gl9",
        "outputId": "7a74383f-77c8-48b6-dd86-4ba67fab03b3"
      },
      "outputs": [
        {
          "name": "stdout",
          "output_type": "stream",
          "text": [
            "2\n"
          ]
        },
        {
          "data": {
            "text/plain": [
              "['__add__',\n",
              " '__class__',\n",
              " '__class_getitem__',\n",
              " '__contains__',\n",
              " '__delattr__',\n",
              " '__delitem__',\n",
              " '__dir__',\n",
              " '__doc__',\n",
              " '__eq__',\n",
              " '__format__',\n",
              " '__ge__',\n",
              " '__getattribute__',\n",
              " '__getitem__',\n",
              " '__gt__',\n",
              " '__hash__',\n",
              " '__iadd__',\n",
              " '__imul__',\n",
              " '__init__',\n",
              " '__init_subclass__',\n",
              " '__iter__',\n",
              " '__le__',\n",
              " '__len__',\n",
              " '__lt__',\n",
              " '__mul__',\n",
              " '__ne__',\n",
              " '__new__',\n",
              " '__reduce__',\n",
              " '__reduce_ex__',\n",
              " '__repr__',\n",
              " '__reversed__',\n",
              " '__rmul__',\n",
              " '__setattr__',\n",
              " '__setitem__',\n",
              " '__sizeof__',\n",
              " '__str__',\n",
              " '__subclasshook__',\n",
              " 'append',\n",
              " 'clear',\n",
              " 'copy',\n",
              " 'count',\n",
              " 'extend',\n",
              " 'index',\n",
              " 'insert',\n",
              " 'pop',\n",
              " 'remove',\n",
              " 'reverse',\n",
              " 'sort']"
            ]
          },
          "execution_count": 11,
          "metadata": {},
          "output_type": "execute_result"
        }
      ],
      "source": [
        "### Searching for indexes \n",
        "\n",
        "mylist=['a','b','c']\n",
        "print(mylist.index('c'))\n",
        "dir(list)"
      ]
    },
    {
      "cell_type": "code",
      "execution_count": null,
      "metadata": {
        "colab": {
          "base_uri": "https://localhost:8080/"
        },
        "id": "N1jnbFJXKrOl",
        "outputId": "bd787344-141f-477e-c0e7-db0171b1c2ae"
      },
      "outputs": [
        {
          "data": {
            "text/plain": [
              "['a', 'd', 'c']"
            ]
          },
          "execution_count": 15,
          "metadata": {},
          "output_type": "execute_result"
        }
      ],
      "source": [
        "## methods dnle underscore\n",
        "\n",
        "mylist.__setitem__(1,'d') \n",
        "mylist"
      ]
    },
    {
      "cell_type": "code",
      "execution_count": null,
      "metadata": {
        "id": "BG6OXBT1LOCH"
      },
      "outputs": [],
      "source": [
        "mylist[1]='b'\n",
        "m"
      ]
    },
    {
      "cell_type": "code",
      "execution_count": null,
      "metadata": {
        "colab": {
          "base_uri": "https://localhost:8080/"
        },
        "id": "hvJUUfxuLaER",
        "outputId": "0b14a158-765f-4542-a445-90b413872d8c"
      },
      "outputs": [
        {
          "name": "stdout",
          "output_type": "stream",
          "text": [
            "1-Raw Data.txt\n",
            "2-Reports.txt\n",
            "3-Presentations.txt\n"
          ]
        }
      ],
      "source": [
        "from os import replace\n",
        "### Data mutability \n",
        "filenames=[\"1.Raw Data.txt\", \"2.Reports.txt\", \"3.Presentations.txt\"]\n",
        "for filename in filenames: \n",
        "  print(filename.replace('.','-',1))"
      ]
    },
    {
      "cell_type": "code",
      "execution_count": null,
      "metadata": {
        "colab": {
          "base_uri": "https://localhost:8080/"
        },
        "id": "Ij2f_lhEMN_b",
        "outputId": "ad989eb2-d3e2-42ec-cbe2-94ffd3806376"
      },
      "outputs": [
        {
          "name": "stdout",
          "output_type": "stream",
          "text": [
            "How many dollars have you got?: 100\n",
            "The amount in euros is: \n",
            "  95.0\n"
          ]
        }
      ],
      "source": [
        "#Dollars to Euros \n",
        "def dollars_to_euros():\n",
        "  dollars = float(input('How many dollars have you got?: ') )\n",
        "  return print('The amount in euros is: \\n ', 0.95 * dollars)\n",
        "dollars_to_euros()"
      ]
    },
    {
      "cell_type": "code",
      "execution_count": null,
      "metadata": {
        "colab": {
          "base_uri": "https://localhost:8080/"
        },
        "id": "3_wvF67XMNMT",
        "outputId": "8acc8fe0-d236-47ee-c77b-d902f9544611"
      },
      "outputs": [
        {
          "name": "stdout",
          "output_type": "stream",
          "text": [
            "Enter rank number2\n",
            "Sen\n"
          ]
        }
      ],
      "source": [
        "#Ranks in a list\n",
        "ranking = ['John', 'Sen', 'Lisa']\n",
        "rank =int(input('Enter rank number: ')) -1\n",
        "print(ranking[rank] )"
      ]
    },
    {
      "cell_type": "code",
      "execution_count": null,
      "metadata": {
        "colab": {
          "base_uri": "https://localhost:8080/"
        },
        "id": "q5TtkAYsQeKW",
        "outputId": "bc3b0204-f918-48ec-8378-a7edf434e18e"
      },
      "outputs": [
        {
          "name": "stdout",
          "output_type": "stream",
          "text": [
            "Enter a name: Sen\n",
            "2\n"
          ]
        }
      ],
      "source": [
        "# Ranks by namme\n",
        "ranking = ['John', 'Sen', 'Lisa']\n",
        "name=input('Enter a name: ')\n",
        "print(ranking.index(name)+1)"
      ]
    },
    {
      "cell_type": "code",
      "execution_count": null,
      "metadata": {
        "colab": {
          "base_uri": "https://localhost:8080/"
        },
        "id": "pIyZG-tLRYm4",
        "outputId": "7e5f9a3b-cb48-46a7-d527-27e1879496c7"
      },
      "outputs": [
        {
          "data": {
            "text/plain": [
              "['__add__',\n",
              " '__class__',\n",
              " '__class_getitem__',\n",
              " '__contains__',\n",
              " '__delattr__',\n",
              " '__delitem__',\n",
              " '__dir__',\n",
              " '__doc__',\n",
              " '__eq__',\n",
              " '__format__',\n",
              " '__ge__',\n",
              " '__getattribute__',\n",
              " '__getitem__',\n",
              " '__gt__',\n",
              " '__hash__',\n",
              " '__iadd__',\n",
              " '__imul__',\n",
              " '__init__',\n",
              " '__init_subclass__',\n",
              " '__iter__',\n",
              " '__le__',\n",
              " '__len__',\n",
              " '__lt__',\n",
              " '__mul__',\n",
              " '__ne__',\n",
              " '__new__',\n",
              " '__reduce__',\n",
              " '__reduce_ex__',\n",
              " '__repr__',\n",
              " '__reversed__',\n",
              " '__rmul__',\n",
              " '__setattr__',\n",
              " '__setitem__',\n",
              " '__sizeof__',\n",
              " '__str__',\n",
              " '__subclasshook__',\n",
              " 'append',\n",
              " 'clear',\n",
              " 'copy',\n",
              " 'count',\n",
              " 'extend',\n",
              " 'index',\n",
              " 'insert',\n",
              " 'pop',\n",
              " 'remove',\n",
              " 'reverse',\n",
              " 'sort']"
            ]
          },
          "execution_count": 34,
          "metadata": {},
          "output_type": "execute_result"
        }
      ],
      "source": [
        "dir(list)"
      ]
    },
    {
      "cell_type": "code",
      "execution_count": null,
      "metadata": {
        "colab": {
          "base_uri": "https://localhost:8080/"
        },
        "id": "lT2Yluz-RabA",
        "outputId": "8a597651-51a8-4f59-c7a9-37fc127204a7"
      },
      "outputs": [
        {
          "name": "stdout",
          "output_type": "stream",
          "text": [
            "Help on enumerate object:\n",
            "\n",
            "class enumerate(object)\n",
            " |  enumerate(iterable, start=0)\n",
            " |  \n",
            " |  Return an enumerate object.\n",
            " |  \n",
            " |    iterable\n",
            " |      an object supporting iteration\n",
            " |  \n",
            " |  The enumerate object yields pairs containing a count (from start, which\n",
            " |  defaults to zero) and a value yielded by the iterable argument.\n",
            " |  \n",
            " |  enumerate is useful for obtaining an indexed list:\n",
            " |      (0, seq[0]), (1, seq[1]), (2, seq[2]), ...\n",
            " |  \n",
            " |  Methods defined here:\n",
            " |  \n",
            " |  __getattribute__(self, name, /)\n",
            " |      Return getattr(self, name).\n",
            " |  \n",
            " |  __iter__(self, /)\n",
            " |      Implement iter(self).\n",
            " |  \n",
            " |  __next__(self, /)\n",
            " |      Implement next(self).\n",
            " |  \n",
            " |  __reduce__(...)\n",
            " |      Return state information for pickling.\n",
            " |  \n",
            " |  ----------------------------------------------------------------------\n",
            " |  Class methods defined here:\n",
            " |  \n",
            " |  __class_getitem__(...) from builtins.type\n",
            " |      See PEP 585\n",
            " |  \n",
            " |  ----------------------------------------------------------------------\n",
            " |  Static methods defined here:\n",
            " |  \n",
            " |  __new__(*args, **kwargs) from builtins.type\n",
            " |      Create and return a new object.  See help(type) for accurate signature.\n",
            "\n"
          ]
        }
      ],
      "source": [
        "help(enumerate(['charly','gloria','ruben']))"
      ]
    },
    {
      "cell_type": "code",
      "execution_count": null,
      "metadata": {
        "colab": {
          "base_uri": "https://localhost:8080/"
        },
        "id": "aAcF85SHKpKF",
        "outputId": "4da46fb6-4092-48c4-fcc9-ef7ef24be795"
      },
      "outputs": [
        {
          "data": {
            "text/plain": [
              "[(0, 'a'), (1, 'b'), (2, 'C')]"
            ]
          },
          "execution_count": 6,
          "metadata": {},
          "output_type": "execute_result"
        }
      ],
      "source": [
        "# Enumerate function and getting the results\n",
        "\n",
        "a = enumerate([\"a\",\"b\",\"C\"])\n",
        "list(a)  #list of tuples"
      ]
    },
    {
      "cell_type": "code",
      "execution_count": null,
      "metadata": {
        "colab": {
          "base_uri": "https://localhost:8080/"
        },
        "id": "1fgiKF-GN8GL",
        "outputId": "31101c9d-8741-4c4a-8b05-31688a310923"
      },
      "outputs": [
        {
          "name": "stdout",
          "output_type": "stream",
          "text": [
            "1.Ben\n",
            "2.John\n",
            "3.Sen\n"
          ]
        }
      ],
      "source": [
        "## Ranking\n",
        "\n",
        "waiting_list = [\"sen\",\"ben\",\"john\"]\n",
        "waiting_list.sort()\n",
        "\n",
        "for index , item in enumerate(waiting_list):\n",
        "  row = f'{index + 1}.{item.capitalize()}'\n",
        "  print(row)\n",
        "\n"
      ]
    },
    {
      "cell_type": "code",
      "execution_count": null,
      "metadata": {
        "colab": {
          "base_uri": "https://localhost:8080/"
        },
        "id": "eDz5BdYiPcFQ",
        "outputId": "f387f004-32df-4041-baf4-a0907aece087"
      },
      "outputs": [
        {
          "data": {
            "text/plain": [
              "['3', '2', '1']"
            ]
          },
          "execution_count": 17,
          "metadata": {},
          "output_type": "execute_result"
        }
      ],
      "source": [
        "my_list=['1','2','3']\n",
        "my_list.sort(reverse=True)\n",
        "my_list"
      ]
    },
    {
      "cell_type": "code",
      "execution_count": null,
      "metadata": {
        "colab": {
          "base_uri": "https://localhost:8080/"
        },
        "id": "lwaslN_FP9vS",
        "outputId": "c7bb605e-5105-45eb-ce6c-425b385ae655"
      },
      "outputs": [
        {
          "data": {
            "text/plain": [
              "['__add__',\n",
              " '__class__',\n",
              " '__contains__',\n",
              " '__delattr__',\n",
              " '__dir__',\n",
              " '__doc__',\n",
              " '__eq__',\n",
              " '__format__',\n",
              " '__ge__',\n",
              " '__getattribute__',\n",
              " '__getitem__',\n",
              " '__getnewargs__',\n",
              " '__gt__',\n",
              " '__hash__',\n",
              " '__init__',\n",
              " '__init_subclass__',\n",
              " '__iter__',\n",
              " '__le__',\n",
              " '__len__',\n",
              " '__lt__',\n",
              " '__mod__',\n",
              " '__mul__',\n",
              " '__ne__',\n",
              " '__new__',\n",
              " '__reduce__',\n",
              " '__reduce_ex__',\n",
              " '__repr__',\n",
              " '__rmod__',\n",
              " '__rmul__',\n",
              " '__setattr__',\n",
              " '__sizeof__',\n",
              " '__str__',\n",
              " '__subclasshook__',\n",
              " 'capitalize',\n",
              " 'casefold',\n",
              " 'center',\n",
              " 'count',\n",
              " 'encode',\n",
              " 'endswith',\n",
              " 'expandtabs',\n",
              " 'find',\n",
              " 'format',\n",
              " 'format_map',\n",
              " 'index',\n",
              " 'isalnum',\n",
              " 'isalpha',\n",
              " 'isascii',\n",
              " 'isdecimal',\n",
              " 'isdigit',\n",
              " 'isidentifier',\n",
              " 'islower',\n",
              " 'isnumeric',\n",
              " 'isprintable',\n",
              " 'isspace',\n",
              " 'istitle',\n",
              " 'isupper',\n",
              " 'join',\n",
              " 'ljust',\n",
              " 'lower',\n",
              " 'lstrip',\n",
              " 'maketrans',\n",
              " 'partition',\n",
              " 'removeprefix',\n",
              " 'removesuffix',\n",
              " 'replace',\n",
              " 'rfind',\n",
              " 'rindex',\n",
              " 'rjust',\n",
              " 'rpartition',\n",
              " 'rsplit',\n",
              " 'rstrip',\n",
              " 'split',\n",
              " 'splitlines',\n",
              " 'startswith',\n",
              " 'strip',\n",
              " 'swapcase',\n",
              " 'title',\n",
              " 'translate',\n",
              " 'upper',\n",
              " 'zfill']"
            ]
          },
          "execution_count": 18,
          "metadata": {},
          "output_type": "execute_result"
        }
      ],
      "source": [
        "dir(str)"
      ]
    },
    {
      "cell_type": "code",
      "execution_count": null,
      "metadata": {
        "colab": {
          "base_uri": "https://localhost:8080/"
        },
        "id": "mttl-Du-QGNR",
        "outputId": "181ab035-c5b4-40b9-be21-6bf66407de62"
      },
      "outputs": [
        {
          "name": "stdout",
          "output_type": "stream",
          "text": [
            "0-Document.txt\n",
            "1-Report.txt\n",
            "2-Presentation.txt\n"
          ]
        }
      ],
      "source": [
        "#reading files\n",
        "filenames = ['document', 'report', 'presentation']\n",
        "for index,archivo in enumerate(filenames):\n",
        "  print(f'{index}-{archivo.capitalize()}.txt')\n"
      ]
    },
    {
      "cell_type": "code",
      "execution_count": null,
      "metadata": {
        "colab": {
          "base_uri": "https://localhost:8080/"
        },
        "id": "DS5ciSq1ovxE",
        "outputId": "ceb127d3-5964-40fd-a90f-a9c6c42c1be8"
      },
      "outputs": [
        {
          "name": "stdout",
          "output_type": "stream",
          "text": [
            "Select an index, choose 0 or 1 [0/1] : \n",
            "0\n",
            "You chose 100.122.133.105\n"
          ]
        }
      ],
      "source": [
        "# \n",
        "ips = ['100.122.133.105', '100.122.133.111']\n",
        "\n",
        "ip_find=int(input('Select an index, choose 0 or 1 [0/1] : \\n'))\n",
        "print(f'You chose {ips[ip_find]}')\n"
      ]
    },
    {
      "cell_type": "code",
      "execution_count": null,
      "metadata": {
        "colab": {
          "base_uri": "https://localhost:8080/"
        },
        "id": "PS1SAaOap5OG",
        "outputId": "1a0a5275-0792-47f6-f4dd-59379a4188e0"
      },
      "outputs": [
        {
          "name": "stdout",
          "output_type": "stream",
          "text": [
            "/content\n"
          ]
        }
      ],
      "source": [
        "! pwd"
      ]
    },
    {
      "cell_type": "code",
      "execution_count": null,
      "metadata": {
        "colab": {
          "base_uri": "https://localhost:8080/"
        },
        "id": "gwKBC4V9LjKa",
        "outputId": "b503b257-7d56-447c-f274-0d47405458bd"
      },
      "outputs": [
        {
          "data": {
            "text/plain": [
              "[('carlos', 'carrera'), ('yazmin', 'padilla'), ('Ruben', 'carrera')]"
            ]
          },
          "execution_count": 13,
          "metadata": {},
          "output_type": "execute_result"
        }
      ],
      "source": [
        "# zip list \n",
        "names = [ 'carlos', 'yazmin', 'Ruben']\n",
        "lastName = ['carrera','padilla', 'carrera']\n",
        "list(zip(names,lastName))\n",
        "\n",
        "\n",
        " \n"
      ]
    },
    {
      "cell_type": "code",
      "execution_count": null,
      "metadata": {
        "id": "-nZ4fWtNOvJ3"
      },
      "outputs": [],
      "source": [
        "# Creating files and filling them with data\n",
        "\n",
        "names = [ 'carlos', 'yazmin', 'ruben']\n",
        "lastName = ['carrera','padilla', 'carrera']\n",
        "\n",
        "for nombre,apellido in zip(names,lastName):\n",
        "  with open(f'{apellido}.txt','w') as file:\n",
        "    file.write(nombre)\n"
      ]
    },
    {
      "cell_type": "code",
      "execution_count": null,
      "metadata": {
        "id": "rdd0iS2mOn_6"
      },
      "outputs": [],
      "source": [
        "text = 'Neosocialismo era el nombre de una facción política que existió en Francia durante la década de 1930 y en Bélgica aproximadamente al mismo tiempo y que incluía varias tendencias revisionistas en la Sección Francesa de la Internacional Obrera (SFIO). Durante la década de 1930, la facción se distanció gradualmente del marxismo revolucionario y el socialismo reformista, pero no llegó a fusionarse en el socialismo tradicional de colaboración de clases del progresismo socialista radical; en su lugar, abogaron por una revolución desde arriba que llamaron una revolución constructiva. En Francia, esto los puso en conflicto con la política tradicional de antigubernamentalismo del Partido Socialista, y los neosocialistas fueron expulsados de la SFIO.'\n",
        "with open('essay.txt','w') as f:\n",
        "  f.writelines(text)\n",
        "  f.close()\n"
      ]
    },
    {
      "cell_type": "code",
      "execution_count": null,
      "metadata": {
        "id": "uqTLcyFrRuyS"
      },
      "outputs": [],
      "source": [
        "with open('essay.txt','r') as f:\n",
        "  lines=f.readlines()\n",
        "  f.close()\n",
        "for line in lines:\n",
        "  line=line.title()\n",
        "\n",
        "with open('essay.txt', 'w') as f:\n",
        "  f.write(line)\n",
        "  f.close()"
      ]
    },
    {
      "cell_type": "code",
      "execution_count": null,
      "metadata": {
        "colab": {
          "base_uri": "https://localhost:8080/"
        },
        "id": "2caGky-nSDi1",
        "outputId": "5fbbbcbd-df7b-4efe-9fd8-7e1c69a6f156"
      },
      "outputs": [
        {
          "name": "stdout",
          "output_type": "stream",
          "text": [
            "the number of characteres of the file is: 750\n"
          ]
        }
      ],
      "source": [
        "#Code that reads the number of characters \n",
        "\n",
        "\n",
        "with open('essay.txt','r') as f :\n",
        "  print('the number of characteres of the file is: '+ str(len(f.read())))"
      ]
    },
    {
      "cell_type": "code",
      "execution_count": null,
      "metadata": {
        "colab": {
          "base_uri": "https://localhost:8080/"
        },
        "id": "uM3H1yUzTkmW",
        "outputId": "97d6477e-ca2c-4d18-80e7-0526b42dac7c"
      },
      "outputs": [
        {
          "name": "stdout",
          "output_type": "stream",
          "text": [
            "add the user ID: \n",
            "Carlos Carrera\n",
            "Sorry, you have alredy a count.\n",
            "  Please, Introduce your password\n"
          ]
        }
      ],
      "source": [
        "# For the next code, you will have to download 'members.txt\n",
        "#This code asks the user to enter a new member in the command line: \n",
        "# And checks if the name alredy exist\n",
        "\n",
        "\n",
        "with open('members.txt','r') as f:\n",
        "  listName=f.readlines()\n",
        "  f.close()\n",
        "\n",
        "userID = input('add the user ID: \\n') + '\\n'\n",
        "if userID in listName:\n",
        "  print('Sorry, you have alredy a count.\\n' + '  Please, Introduce your password')\n",
        "else:\n",
        "  listName.append(userID)\n",
        "  with open('members.txt','w') as f:\n",
        "    f.writelines(listName)\n",
        "    f.close()\n",
        "\n",
        "  userID=userID.replace('\\n','')\n",
        "  print(f' Good to meet you {userID}\\n' +'please  introduce a new password :')\n",
        "  \n",
        "\n"
      ]
    },
    {
      "cell_type": "code",
      "execution_count": null,
      "metadata": {
        "colab": {
          "base_uri": "https://localhost:8080/",
          "height": 35
        },
        "id": "LcELJkcJUtwu",
        "outputId": "af409203-c229-4ae2-9a56-250ba4dca9fa"
      },
      "outputs": [
        {
          "data": {
            "application/vnd.google.colaboratory.intrinsic+json": {
              "type": "string"
            },
            "text/plain": [
              "'John Smith\\n'"
            ]
          },
          "execution_count": 39,
          "metadata": {},
          "output_type": "execute_result"
        }
      ],
      "source": [
        "'John Smith\\n' "
      ]
    },
    {
      "cell_type": "code",
      "execution_count": null,
      "metadata": {
        "id": "ujsu9OlEWnNx"
      },
      "outputs": [],
      "source": [
        "# The next code itereates over a list of names creating its respective file \n",
        "# and writing inside a word\n",
        "names=['arc1','arc2']\n",
        "words=['hello','word']\n",
        "for name,word in zip(names,words):\n",
        "  with open(f'{name}.txt','w') as file:\n",
        "    file.write(word)\n",
        "    file.close()\n",
        "\n"
      ]
    },
    {
      "cell_type": "code",
      "execution_count": null,
      "metadata": {
        "id": "LqxdHsP0diqc"
      },
      "outputs": [],
      "source": [
        "# This program makes a list and print the content of files\n",
        "for i in 'abc':\n",
        "  with open(f'{i}.txt','w') as f:\n",
        "    f.write(f'I am {i}.')\n",
        "    f.close()\n"
      ]
    },
    {
      "cell_type": "code",
      "execution_count": null,
      "metadata": {
        "id": "cw1NgcEUoGWj"
      },
      "outputs": [],
      "source": [
        "lst_files= [i+'.txt' for i in 'abc'] \n",
        "\n"
      ]
    },
    {
      "cell_type": "code",
      "execution_count": null,
      "metadata": {
        "colab": {
          "base_uri": "https://localhost:8080/"
        },
        "id": "XQ5rrbXookPS",
        "outputId": "6da8e17c-95bb-4b89-e1a3-eb7075a1759b"
      },
      "outputs": [
        {
          "name": "stdout",
          "output_type": "stream",
          "text": [
            "I am a.\n",
            "I am b.\n",
            "I am c.\n"
          ]
        }
      ],
      "source": [
        "for file in lst_files:\n",
        "  with open(file,'r') as f:\n",
        "    print(f.read())\n",
        "    f.close()"
      ]
    },
    {
      "cell_type": "code",
      "execution_count": null,
      "metadata": {
        "colab": {
          "base_uri": "https://localhost:8080/"
        },
        "id": "XjRD6FL0eITa",
        "outputId": "5ff0ba52-f1b6-4ec0-9981-9776bde4a4a6"
      },
      "outputs": [
        {
          "data": {
            "text/plain": [
              "['__add__',\n",
              " '__class__',\n",
              " '__contains__',\n",
              " '__delattr__',\n",
              " '__dir__',\n",
              " '__doc__',\n",
              " '__eq__',\n",
              " '__format__',\n",
              " '__ge__',\n",
              " '__getattribute__',\n",
              " '__getitem__',\n",
              " '__getnewargs__',\n",
              " '__gt__',\n",
              " '__hash__',\n",
              " '__init__',\n",
              " '__init_subclass__',\n",
              " '__iter__',\n",
              " '__le__',\n",
              " '__len__',\n",
              " '__lt__',\n",
              " '__mod__',\n",
              " '__mul__',\n",
              " '__ne__',\n",
              " '__new__',\n",
              " '__reduce__',\n",
              " '__reduce_ex__',\n",
              " '__repr__',\n",
              " '__rmod__',\n",
              " '__rmul__',\n",
              " '__setattr__',\n",
              " '__sizeof__',\n",
              " '__str__',\n",
              " '__subclasshook__',\n",
              " 'capitalize',\n",
              " 'casefold',\n",
              " 'center',\n",
              " 'count',\n",
              " 'encode',\n",
              " 'endswith',\n",
              " 'expandtabs',\n",
              " 'find',\n",
              " 'format',\n",
              " 'format_map',\n",
              " 'index',\n",
              " 'isalnum',\n",
              " 'isalpha',\n",
              " 'isascii',\n",
              " 'isdecimal',\n",
              " 'isdigit',\n",
              " 'isidentifier',\n",
              " 'islower',\n",
              " 'isnumeric',\n",
              " 'isprintable',\n",
              " 'isspace',\n",
              " 'istitle',\n",
              " 'isupper',\n",
              " 'join',\n",
              " 'ljust',\n",
              " 'lower',\n",
              " 'lstrip',\n",
              " 'maketrans',\n",
              " 'partition',\n",
              " 'removeprefix',\n",
              " 'removesuffix',\n",
              " 'replace',\n",
              " 'rfind',\n",
              " 'rindex',\n",
              " 'rjust',\n",
              " 'rpartition',\n",
              " 'rsplit',\n",
              " 'rstrip',\n",
              " 'split',\n",
              " 'splitlines',\n",
              " 'startswith',\n",
              " 'strip',\n",
              " 'swapcase',\n",
              " 'title',\n",
              " 'translate',\n",
              " 'upper',\n",
              " 'zfill']"
            ]
          },
          "execution_count": 43,
          "metadata": {},
          "output_type": "execute_result"
        }
      ],
      "source": [
        "dir(str)"
      ]
    },
    {
      "cell_type": "code",
      "execution_count": null,
      "metadata": {
        "colab": {
          "base_uri": "https://localhost:8080/"
        },
        "id": "em0uWMAneQjz",
        "outputId": "17ea9d24-3caa-441e-f857-49938640321b"
      },
      "outputs": [
        {
          "name": "stdout",
          "output_type": "stream",
          "text": [
            "Help on method_descriptor:\n",
            "\n",
            "split(self, /, sep=None, maxsplit=-1)\n",
            "    Return a list of the substrings in the string, using sep as the separator string.\n",
            "    \n",
            "      sep\n",
            "        The separator used to split the string.\n",
            "    \n",
            "        When set to None (the default value), will split on any whitespace\n",
            "        character (including \\\\n \\\\r \\\\t \\\\f and spaces) and will discard\n",
            "        empty strings from the result.\n",
            "      maxsplit\n",
            "        Maximum number of splits (starting from the left).\n",
            "        -1 (the default value) means no limit.\n",
            "    \n",
            "    Note, str.split() is mainly useful for data that has been intentionally\n",
            "    delimited.  With natural text that includes punctuation, consider using\n",
            "    the regular expression module.\n",
            "\n"
          ]
        }
      ],
      "source": [
        "help(str.split)"
      ]
    },
    {
      "cell_type": "code",
      "execution_count": null,
      "metadata": {
        "colab": {
          "base_uri": "https://localhost:8080/"
        },
        "id": "Fr6HSmxHmhdj",
        "outputId": "9ca4559c-40d9-4b64-f7a6-e9a9430ef9f7"
      },
      "outputs": [
        {
          "name": "stdout",
          "output_type": "stream",
          "text": [
            "[' 1_doc', '2_doc', '3_doc']\n"
          ]
        }
      ],
      "source": [
        "# replace in strings\n",
        "filenames = [ \" 1.doc\",\"2.doc\",\"3.doc\"]\n",
        "filenames = [document.replace(\".\",\"_\") for document in filenames]\n",
        "print(filenames)"
      ]
    },
    {
      "cell_type": "code",
      "execution_count": null,
      "metadata": {
        "id": "eN8xviB37S2r"
      },
      "outputs": [],
      "source": [
        "new1 = []\n",
        "for i in [1,2,3]:\n",
        "  new1.append(i)"
      ]
    },
    {
      "cell_type": "code",
      "execution_count": null,
      "metadata": {
        "id": "woa_dcac8aZX"
      },
      "outputs": [],
      "source": [
        "new=[i for i in [1,2,3]]"
      ]
    },
    {
      "cell_type": "code",
      "execution_count": null,
      "metadata": {
        "colab": {
          "base_uri": "https://localhost:8080/"
        },
        "id": "yKPxVVzc80Ej",
        "outputId": "0b1e8682-39c8-459c-b933-59eb4fe601b8"
      },
      "outputs": [
        {
          "data": {
            "text/plain": [
              "True"
            ]
          },
          "execution_count": 13,
          "metadata": {},
          "output_type": "execute_result"
        }
      ],
      "source": [
        "new1==new"
      ]
    },
    {
      "cell_type": "code",
      "execution_count": null,
      "metadata": {
        "colab": {
          "base_uri": "https://localhost:8080/"
        },
        "id": "zz6G87Pa835g",
        "outputId": "b9b4ba5d-8fd1-4dae-f7ce-41ccae9a9004"
      },
      "outputs": [
        {
          "name": "stdout",
          "output_type": "stream",
          "text": [
            "['John Smith', 'Jay Santi', 'Eva Kuki']\n"
          ]
        }
      ],
      "source": [
        "###Comprehencion list  exercises\n",
        "\n",
        "names = [\"john smith\", \"jay santi\", \"eva kuki\"]\n",
        "names = [name.title() for name in names ]\n",
        "print(names)"
      ]
    },
    {
      "cell_type": "code",
      "execution_count": null,
      "metadata": {
        "colab": {
          "base_uri": "https://localhost:8080/"
        },
        "id": "hFv91uBI9aiq",
        "outputId": "4fc5b6c1-8c27-4c31-82a3-960a46635ca9"
      },
      "outputs": [
        {
          "name": "stdout",
          "output_type": "stream",
          "text": [
            "[9, 11, 11]\n"
          ]
        }
      ],
      "source": [
        "usernames = [\"john 1990\", \"alberta1970\", \"magnola2000\"]\n",
        "nameLen = [len(user) for user in usernames ]\n",
        "print(nameLen)"
      ]
    },
    {
      "cell_type": "code",
      "execution_count": null,
      "metadata": {
        "colab": {
          "base_uri": "https://localhost:8080/"
        },
        "id": "sJlYN48X9v8v",
        "outputId": "d45d7a81-d127-4f8d-aa1d-aaeb62e04b15"
      },
      "outputs": [
        {
          "name": "stdout",
          "output_type": "stream",
          "text": [
            "[10.0, 19.1, 20.0]\n"
          ]
        }
      ],
      "source": [
        "user_entries = ['10', '19.1', '20']\n",
        "user_entries =[float(entry) for entry in user_entries]\n",
        "print(user_entries)"
      ]
    },
    {
      "cell_type": "code",
      "execution_count": null,
      "metadata": {
        "colab": {
          "base_uri": "https://localhost:8080/"
        },
        "id": "xYcHw5Fl-XTG",
        "outputId": "a165abbd-63cc-40e4-ff22-d06ce7cfeda3"
      },
      "outputs": [
        {
          "data": {
            "text/plain": [
              "49.1"
            ]
          },
          "execution_count": 30,
          "metadata": {},
          "output_type": "execute_result"
        }
      ],
      "source": [
        "user_entries = [10.0, 19.1, 20.0]\n",
        "sum(user_entries)"
      ]
    },
    {
      "cell_type": "code",
      "execution_count": null,
      "metadata": {
        "id": "AUns4tqUNhtB",
        "colab": {
          "base_uri": "https://localhost:8080/"
        },
        "outputId": "862a4d16-15a9-42d2-8eb2-39cc437a4428"
      },
      "outputs": [
        {
          "output_type": "stream",
          "name": "stdout",
          "text": [
            "Hi!  This program compute the area of a rectangule.\n",
            "\n",
            "Enter the width of the rectangule :  5\n",
            "Enter the lenght of the rectangule:  5\n",
            "This is a square not a rectangule \n",
            "25.0\n"
          ]
        }
      ],
      "source": [
        "# Cheking for the area of a rectangule\n",
        "try:\n",
        "    print('Hi!  This program compute the area of a rectangule.\\n')\n",
        "    width = float(input('Enter the width of the rectangule :  '))\n",
        "    length =float(input('Enter the lenght of the rectangule:  '))\n",
        "    area = width * length\n",
        "    \n",
        "    if width == length:\n",
        "      \n",
        "      print('This is a square not a rectangule ')\n",
        "\n",
        "    area = width * length \n",
        "    print(area)\n",
        "except ValueError: \n",
        "  print('Please enter a number \\n')\n",
        "\n"
      ]
    },
    {
      "cell_type": "code",
      "execution_count": null,
      "metadata": {
        "id": "DhSN4XCjNia9"
      },
      "outputs": [],
      "source": [
        "4"
      ]
    },
    {
      "cell_type": "code",
      "source": [
        "#This programm calculates de percentage of a total value:\n",
        "try:\n",
        "  total = float(input('Enter total value:   '))\n",
        "  num = float(input('Enter value:   '))\n",
        "  print('That is ', num/total *100, '%')\n",
        "except (ZeroDivisionError,ValueError):\n",
        "  print('Please write a no cero number or number. Run again.') "
      ],
      "metadata": {
        "colab": {
          "base_uri": "https://localhost:8080/"
        },
        "id": "Lylmq1DXIb6A",
        "outputId": "deb42541-a407-4283-818b-9b1125ec8bda"
      },
      "execution_count": null,
      "outputs": [
        {
          "output_type": "stream",
          "name": "stdout",
          "text": [
            "Enter total value:   0\n",
            "Enter value:   5\n",
            "Please write a no cero number or number\n"
          ]
        }
      ]
    },
    {
      "cell_type": "code",
      "source": [
        "520/50 *100"
      ],
      "metadata": {
        "colab": {
          "base_uri": "https://localhost:8080/"
        },
        "id": "O4W8IUnUI1t9",
        "outputId": "93f818e9-6273-4fd2-ab04-83efa86821ca"
      },
      "execution_count": null,
      "outputs": [
        {
          "output_type": "execute_result",
          "data": {
            "text/plain": [
              "40.0"
            ]
          },
          "metadata": {},
          "execution_count": 27
        }
      ]
    },
    {
      "cell_type": "code",
      "source": [
        "# Checking for item in a lsit the list \n",
        "try:\n",
        "    waiting_list = [\"Carlos\",\"Yazmin\"]\n",
        "    name= input(\"Enter name to find:\")\n",
        "\n",
        "    number = waiting_list.index(name)\n",
        "    print(f\"{name}'s turn is number {number}\")\n",
        "except ValueError:\n",
        "  print(f'{name} is not in the list, please add')"
      ],
      "metadata": {
        "colab": {
          "base_uri": "https://localhost:8080/"
        },
        "id": "mIcKn0XMI3ef",
        "outputId": "a8cb2ed2-ee85-430c-d3d8-6c77366197c9"
      },
      "execution_count": null,
      "outputs": [
        {
          "output_type": "stream",
          "name": "stdout",
          "text": [
            "Enter name to find:Ruben\n",
            "Ruben is not in the list, please add\n"
          ]
        }
      ]
    },
    {
      "cell_type": "code",
      "source": [],
      "metadata": {
        "id": "ZFvlDs-3M9av"
      },
      "execution_count": null,
      "outputs": []
    }
  ],
  "metadata": {
    "colab": {
      "provenance": [],
      "authorship_tag": "ABX9TyMxlKH3oBI0UgmTkSXoC06k",
      "include_colab_link": true
    },
    "kernelspec": {
      "display_name": "Python 3",
      "name": "python3"
    },
    "language_info": {
      "name": "python"
    }
  },
  "nbformat": 4,
  "nbformat_minor": 0
}